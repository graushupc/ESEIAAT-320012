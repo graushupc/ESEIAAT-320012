{
 "cells": [
  {
   "cell_type": "markdown",
   "metadata": {},
   "source": [
    "## Caso Ejemplo: Sistemas de Bomba Simple y Depósitos\n",
    "\n",
    "_Gustavo Raush, 2019, UPC-MF_\n",
    "\n",
    "Calcular el punto de funcionamiento de la bomba simple.\n",
    "\n",
    "Para los cálculos de pérdidas por fricción considerar un $f = 0.02$.\n",
    "\n",
    "Calcular el punto de trabajo de la bomba (caudal y altura) que impulsa agua a través del sistema presentado en la figura. El desnivel entre depósitos es de 10 m. Las sumatorias de pérdidas tiene una $L_{eq} = 150\\, m$, y sección $D = 250\\, mm$. Considerar un coeficiente de fricción $f = 0.02$, constante. La ecuación de la bomba tiene una $H_{max} = 30\\, m$ y un caudal máximo $Q_{max} = 0.5 \\,m^3/s$. Comprobar la solución analítica a través del método gráfico.\n",
    "\n",
    "![Esquema de Instalación](./sistemaBombaSimple.png)"
   ]
  },
  {
   "cell_type": "code",
   "execution_count": 7,
   "metadata": {},
   "outputs": [],
   "source": [
    "from math import *\n",
    "import numpy as np\n",
    "from math import pi\n",
    "from scipy.constants import g\n",
    "from scipy.optimize import fsolve\n",
    "from numpy import mean\n",
    "from numpy import arange\n",
    "from numpy import array\n",
    "from numpy import linspace\n",
    "from scipy.interpolate import interp1d\n",
    "import matplotlib.pyplot as plt\n",
    "%matplotlib inline"
   ]
  },
  {
   "cell_type": "code",
   "execution_count": 8,
   "metadata": {},
   "outputs": [],
   "source": [
    "def _area(d):\n",
    "    return pi*0.25*d**2\n",
    " \n",
    "def _diam(Q,L,H,f = 0.02):\n",
    "    return pow(8 * f * L * Q**2/((pi**2) * g * H),1./5.)\n",
    " \n",
    "def _req(d,l,f=0.02):\n",
    "    return 8 * f * l / (pi**2 * g * d**5)\n",
    " \n",
    "def _Re(Q=1,D=0.1,nu=1e-6):\n",
    "    return round(4 * Q / (pi * nu * D),0)\n",
    " \n",
    "def _leq(k,d,f=0.02):\n",
    "    return k * d / f\n",
    " \n",
    "def Q_from_H(H,rh):\n",
    "    return sqrt(H / rh)\n",
    " \n",
    "def f_From_Moody(Re=1.e6,er=0.0001): # Diagrama de Moody\n",
    "    if Re < 2300:\n",
    "        return 64./Re\n",
    "    elif ((Re >= 2300) and (Re < 4000)):\n",
    "        return \"Transition Zone\"\n",
    "    else:\n",
    "        f_initial_guess = 0.02\n",
    "        x_initial_guess = 1 / sqrt(f_initial_guess)\n",
    "        func = lambda x : x + 2*log10(er / 3.71 + 2.51 * x / Re)\n",
    "        x_sol = fsolve(func,x_initial_guess)\n",
    "        return 1 / x_sol[0]**2"
   ]
  },
  {
   "cell_type": "markdown",
   "metadata": {},
   "source": [
    "### Datos del problema"
   ]
  },
  {
   "cell_type": "code",
   "execution_count": 3,
   "metadata": {},
   "outputs": [],
   "source": [
    "gamma = 9810 # N/m^3, peso específica del fluido\n",
    "H = 10 # m , diferencia de cabezas entre reservorios\n",
    "Leq = 150 # m, Longitud equivalente total de instalación\n",
    "D = 250.e-3 # m, Dismetro de tubería\n",
    "Hmax = 30 # m, haltura máxima de bomba\n",
    "Qmax = 0.5 # m^3/s, caudal máximo de bomba"
   ]
  },
  {
   "cell_type": "markdown",
   "metadata": {},
   "source": [
    "Coeficiente de fricción constante"
   ]
  },
  {
   "cell_type": "code",
   "execution_count": 5,
   "metadata": {},
   "outputs": [],
   "source": [
    "f = 0.02"
   ]
  },
  {
   "cell_type": "markdown",
   "metadata": {},
   "source": [
    "### Solución"
   ]
  },
  {
   "cell_type": "markdown",
   "metadata": {},
   "source": [
    "La diferencia entre cabezas piezométricas entre depósitos es H y la __Ecuación del Sistema__ es,\n",
    "\n",
    "$$H_{sys}(Q) = H + r_{eq} Q^2$$"
   ]
  },
  {
   "cell_type": "markdown",
   "metadata": {},
   "source": [
    "La resistencia hidráulica del sistema de tuberías y tanques, en donde las pérdidas singuares ya fueron añadidas a la longitud real como longitudes equivalentes es:"
   ]
  },
  {
   "cell_type": "code",
   "execution_count": 10,
   "metadata": {},
   "outputs": [
    {
     "name": "stdout",
     "output_type": "stream",
     "text": [
      "req = 253.9 s^2/m^5\n"
     ]
    }
   ],
   "source": [
    "req = _req(D,Leq)\n",
    "print('req = %.1f s^2/m^5'% (req))"
   ]
  },
  {
   "cell_type": "markdown",
   "metadata": {},
   "source": [
    "Definición de la ecuación del sistema"
   ]
  },
  {
   "cell_type": "code",
   "execution_count": 11,
   "metadata": {},
   "outputs": [],
   "source": [
    "Hsys = lambda q : H + req* q**2"
   ]
  },
  {
   "cell_type": "code",
   "execution_count": 12,
   "metadata": {},
   "outputs": [],
   "source": [
    "q = linspace(0.0,0.5) # Vector de caudal para graficar la curva del sistema"
   ]
  },
  {
   "cell_type": "code",
   "execution_count": 13,
   "metadata": {},
   "outputs": [],
   "source": [
    "hs = Hsys(q) # Altura piezometrica del sistema"
   ]
  },
  {
   "cell_type": "code",
   "execution_count": 14,
   "metadata": {},
   "outputs": [
    {
     "data": {
      "image/png": "[encoded data removed]",
      "text/plain": [
       "<Figure size 432x288 with 1 Axes>"
      ]
     },
     "metadata": {
      "needs_background": "light"
     },
     "output_type": "display_data"
    }
   ],
   "source": [
    "plt.plot(q,hs)\n",
    "plt.xlabel('Q')\n",
    "plt.ylabel('H')\n",
    "plt.grid()\n",
    "plt.show()\n"
   ]
  },
  {
   "cell_type": "markdown",
   "metadata": {},
   "source": [
    "Ecuación de la bomba, versión simplificada, $$H_B(Q) = H_{max}\\left[ 1 - \\left(\\frac{Q}{Q_{max}}\\right)^2\\right]$$"
   ]
  },
  {
   "cell_type": "code",
   "execution_count": 15,
   "metadata": {},
   "outputs": [
    {
     "data": {
      "image/png": "[encoded data removed]",
      "text/plain": [
       "<Figure size 432x288 with 1 Axes>"
      ]
     },
     "metadata": {
      "needs_background": "light"
     },
     "output_type": "display_data"
    }
   ],
   "source": [
    "Hpump = lambda q : Hmax*(1-(q/Qmax)**2)\n",
    "hp = Hpump(q)\n",
    "plt.plot(q,hp,'r')\n",
    "plt.grid()\n",
    "plt.ylabel('Hb')\n",
    "plt.xlabel('Q')\n",
    "plt.show()\n"
   ]
  },
  {
   "cell_type": "markdown",
   "metadata": {},
   "source": [
    "La solución gráfica del problema es la intersección de ambas curvas"
   ]
  },
  {
   "cell_type": "code",
   "execution_count": 16,
   "metadata": {},
   "outputs": [
    {
     "data": {
      "image/png": "[encoded data removed]",
      "text/plain": [
       "<Figure size 432x288 with 1 Axes>"
      ]
     },
     "metadata": {
      "needs_background": "light"
     },
     "output_type": "display_data"
    }
   ],
   "source": [
    "plt.plot(q,hs,'r-',q,hp,'b--')\n",
    "plt.legend(['Hsys','Hb'])\n",
    "plt.grid()\n",
    "plt.xlabel('Q')\n",
    "plt.ylabel('H')\n",
    "plt.show()"
   ]
  },
  {
   "cell_type": "code",
   "execution_count": 26,
   "metadata": {},
   "outputs": [
    {
     "data": {
      "image/png": "[encoded data removed]",
      "text/plain": [
       "<Figure size 432x288 with 1 Axes>"
      ]
     },
     "metadata": {
      "needs_background": "light"
     },
     "output_type": "display_data"
    }
   ],
   "source": [
    "plt.plot(q[0:30],hs[0:30],'r-',q[0:30],hp[0:30],'b--')\n",
    "plt.legend(['Hsys','Hb'])\n",
    "plt.grid()\n",
    "plt.xlabel('Q')\n",
    "plt.ylabel('H')\n",
    "plt.title('H(Q)')\n",
    "plt.show()"
   ]
  },
  {
   "cell_type": "markdown",
   "metadata": {},
   "source": [
    "\n",
    "Resolviendo el sistema obtenemos el valor exacto del punto de trabajo"
   ]
  },
  {
   "cell_type": "markdown",
   "metadata": {},
   "source": [
    "$Err_Q$ en la función de error de caudal y que se iguala a cero para conseguir encontrar el valor de $Q_{sol}$, de tal manera que,\n",
    "\n",
    "$$Err_Q (Q_{sol}) = 0$$\n",
    "\n",
    "$$Err_Q (Q_{sol}) = H_B(Q) - H_{sys}(Q)$$\n",
    "\n",
    "$$0 =  H_{max}\\left( 1 - \\left(\\frac{Q} {Q_{max}}\\right)^2\\right) - \\left(H + r_{eq} Q^2 \\right)$$ \n",
    "\n",
    "Solución\n",
    "\n",
    "$$Q_{sol} = Qmax \\sqrt{\\frac{Hmax - Hsys}{Hmax + Qmax^{2} req}}$$"
   ]
  },
  {
   "cell_type": "code",
   "execution_count": 18,
   "metadata": {},
   "outputs": [],
   "source": [
    "ErrQ = lambda x : Hpump(x) - Hsys(x)"
   ]
  },
  {
   "cell_type": "code",
   "execution_count": 24,
   "metadata": {},
   "outputs": [
    {
     "name": "stdout",
     "output_type": "stream",
     "text": [
      "Qsol = 0.2 m^3/s\n"
     ]
    }
   ],
   "source": [
    "Qsol = fsolve(ErrQ,0.1)[0]\n",
    "print('Qsol = %.1f m^3/s' % Qsol) "
   ]
  },
  {
   "cell_type": "markdown",
   "metadata": {},
   "source": [
    "El punto de trabajo son las coordenadas de mismo en la gráfica superior $$H_{sol} = H_{B}(Q_{sol})$$"
   ]
  },
  {
   "cell_type": "code",
   "execution_count": 23,
   "metadata": {},
   "outputs": [
    {
     "name": "stdout",
     "output_type": "stream",
     "text": [
      "Hsol = 23.6 m\n"
     ]
    }
   ],
   "source": [
    "Hsol = Hpump(Qsol)\n",
    "print('Hsol = %.1f m' % Hsol)"
   ]
  },
  {
   "cell_type": "markdown",
   "metadata": {},
   "source": [
    "Punto de trabajo del sistema completo, bomba y depósitos:"
   ]
  },
  {
   "cell_type": "code",
   "execution_count": 22,
   "metadata": {},
   "outputs": [
    {
     "name": "stdout",
     "output_type": "stream",
     "text": [
      "Qsol = 0.231 m^3/s\n",
      "Hsol = 23.6 m\n"
     ]
    }
   ],
   "source": [
    "print('Qsol = %.3f m^3/s\\nHsol = %.1f m' % (Qsol,Hsol))"
   ]
  },
  {
   "cell_type": "code",
   "execution_count": 17,
   "metadata": {},
   "outputs": [],
   "source": []
  }
 ],
 "metadata": {
  "kernelspec": {
   "display_name": "Python 3",
   "language": "python",
   "name": "python3"
  },
  "language_info": {
   "codemirror_mode": {
    "name": "ipython",
    "version": 3
   },
   "file_extension": ".py",
   "mimetype": "text/x-python",
   "name": "python",
   "nbconvert_exporter": "python",
   "pygments_lexer": "ipython3",
   "version": "3.7.3"
  }
 },
 "nbformat": 4,
 "nbformat_minor": 1
}
