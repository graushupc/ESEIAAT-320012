{
 "cells": [
  {
   "cell_type": "markdown",
   "metadata": {},
   "source": [
    "## Problema Ejemplo de Sistema Paralelo Equilibrado\n",
    "\n",
    "<i>Version simplificada con coeficiente de fricción único</i>"
   ]
  },
  {
   "cell_type": "markdown",
   "metadata": {},
   "source": [
    "Dos depósitos abiertos están conectados por un sistema de dos tuberías en paralelo. El caudal total de intercambio no tiene que superar los 0.15 $m^3/s$ y por el ramal 1 se desea un caudal de 0.1 $m^3/s$. En la primera rama se consideran despreciables los elementos de pérdidas secundarias, tiene una longitud de 600 m y un diámetro interior de 250 mm. La segunda rama  tiene una longitud de 100 m y un diámetro de 150 mm. Usar una válvula de control para conseguir el equilibrio entre caudales. Para simplificar el problema , usar un coeficiente de fricción f = 0.02. Finalmente, verificar las diferencias entre los f reales y el adoptado."
   ]
  },
  {
   "cell_type": "code",
   "execution_count": 1,
   "metadata": {
    "collapsed": false,
    "jupyter": {
     "outputs_hidden": false
    }
   },
   "outputs": [],
   "source": [
    "from math import pi\n",
    "from math import *\n",
    "from scipy.constants import g\n",
    "from scipy.optimize import fsolve\n",
    "import numpy as np\n",
    "import matplotlib.pyplot as plt\n",
    "%matplotlib inline"
   ]
  },
  {
   "cell_type": "markdown",
   "metadata": {
    "jupyter": {
     "outputs_hidden": false
    }
   },
   "source": [
    "#### Definición de funciones de trabajo"
   ]
  },
  {
   "cell_type": "code",
   "execution_count": 1,
   "metadata": {
    "collapsed": false,
    "jupyter": {
     "outputs_hidden": false
    }
   },
   "outputs": [],
   "source": [
    "def area(d):\n",
    "    return pi * 0.25 * d**2\n",
    "\n",
    "def _req(d,l,f=0.02):\n",
    "    return 8*f*l/(pi**2 * g * d**5)\n",
    "\n",
    "def nRe(q,d,nu=1e-6):\n",
    "    return 4*q/(pi * nu * d)\n",
    "\n",
    "def _leq(k,d,f=0.02):\n",
    "    return k*d / f\n",
    "\n",
    "def Q_from_H(H,rh):\n",
    "    return sqrt(H / rh)\n",
    "\n",
    "def Leq_from_req(rh,d,f = 0.02):\n",
    "    return (rh * pi**2 * g * D**5)/(8. * f)"
   ]
  },
  {
   "cell_type": "markdown",
   "metadata": {},
   "source": [
    "### Datos del problema"
   ]
  },
  {
   "cell_type": "code",
   "execution_count": 2,
   "metadata": {
    "collapsed": false,
    "jupyter": {
     "outputs_hidden": false
    }
   },
   "outputs": [],
   "source": [
    "D1 = 0.25 # m\n",
    "D2 = 0.15 # m\n",
    "L1 = 600 # m\n",
    "L2 = 100 # m\n",
    "f = 0.02 \n",
    "Q = 0.15 # m^3/s\n",
    "Q1 = 0.1 # m^3/s\n",
    "Q2dis = Q - Q1"
   ]
  },
  {
   "cell_type": "markdown",
   "metadata": {},
   "source": [
    "Calculamos las resistencias hidráulicas con las longitudes totales, reales más equivalentes."
   ]
  },
  {
   "cell_type": "code",
   "execution_count": 3,
   "metadata": {
    "collapsed": false,
    "jupyter": {
     "outputs_hidden": false
    }
   },
   "outputs": [
    {
     "name": "stdout",
     "output_type": "stream",
     "text": [
      "req1 = 1015.67 s^2/m^5\n"
     ]
    }
   ],
   "source": [
    "req1 = _req(D1,L1);req1\n",
    "print('req1 = {:.2f} s^2/m^5'.format(req1))"
   ]
  },
  {
   "cell_type": "markdown",
   "metadata": {},
   "source": [
    "Se necesita un desnivel entre depósitos"
   ]
  },
  {
   "cell_type": "code",
   "execution_count": 4,
   "metadata": {
    "collapsed": false,
    "jupyter": {
     "outputs_hidden": false
    }
   },
   "outputs": [
    {
     "name": "stdout",
     "output_type": "stream",
     "text": [
      "H1 = 10.16 m\n"
     ]
    }
   ],
   "source": [
    "H1 = req1 * Q1**2\n",
    "print('H1 = %.2f m' % H1)"
   ]
  },
  {
   "cell_type": "code",
   "execution_count": 5,
   "metadata": {
    "collapsed": false,
    "jupyter": {
     "outputs_hidden": false
    }
   },
   "outputs": [
    {
     "name": "stdout",
     "output_type": "stream",
     "text": [
      "req2 = 2176.92 s^2/m^5\n"
     ]
    }
   ],
   "source": [
    "req2 = _req(D2,L2);\n",
    "print('req2 = {:.2f} s^2/m^5'.format(req2))"
   ]
  },
  {
   "cell_type": "markdown",
   "metadata": {},
   "source": [
    "Esta resitencia hidráulica permite un caudal de"
   ]
  },
  {
   "cell_type": "code",
   "execution_count": 6,
   "metadata": {
    "collapsed": false,
    "jupyter": {
     "outputs_hidden": false
    }
   },
   "outputs": [
    {
     "name": "stdout",
     "output_type": "stream",
     "text": [
      "Q2 = 0.068 m^3/s\n"
     ]
    }
   ],
   "source": [
    "Q2 = Q_from_H(H1,req2)\n",
    "print('Q2 = %.3f m^3/s' % Q2)"
   ]
  },
  {
   "cell_type": "markdown",
   "metadata": {},
   "source": [
    "Que es mayor al deseado de 0.05 m3/s"
   ]
  },
  {
   "cell_type": "code",
   "execution_count": 7,
   "metadata": {
    "collapsed": false,
    "jupyter": {
     "outputs_hidden": false
    }
   },
   "outputs": [
    {
     "data": {
      "text/plain": [
       "(0.068305197459637, 0.04999999999999999)"
      ]
     },
     "execution_count": 7,
     "metadata": {},
     "output_type": "execute_result"
    }
   ],
   "source": [
    "Q2,Q2dis"
   ]
  },
  {
   "cell_type": "markdown",
   "metadata": {},
   "source": [
    "La resistencia hidráulica necesaria para conseguir el caudal de diseño"
   ]
  },
  {
   "cell_type": "code",
   "execution_count": 8,
   "metadata": {
    "collapsed": false,
    "jupyter": {
     "outputs_hidden": false
    }
   },
   "outputs": [
    {
     "name": "stdout",
     "output_type": "stream",
     "text": [
      "req2 = 4062.7 s^2/m^5\n"
     ]
    }
   ],
   "source": [
    "req2dis = H1 / Q2dis**2\n",
    "print('req2 = %.1f s^2/m^5' % req2dis)"
   ]
  },
  {
   "cell_type": "markdown",
   "metadata": {},
   "source": [
    "La longitud total de diseño se obtiene de la solución de la ecuación de la resistencia hidráulica"
   ]
  },
  {
   "cell_type": "code",
   "execution_count": 9,
   "metadata": {
    "collapsed": false,
    "jupyter": {
     "outputs_hidden": false
    }
   },
   "outputs": [
    {
     "name": "stdout",
     "output_type": "stream",
     "text": [
      "L tot = 186.6 m\n"
     ]
    }
   ],
   "source": [
    "func = lambda x : req2dis - _req(D2,x)\n",
    "x_initial_guess = 150\n",
    "ltot = fsolve(func,x_initial_guess)\n",
    "print('L tot = %.1f m' % ltot[0])"
   ]
  },
  {
   "cell_type": "code",
   "execution_count": 10,
   "metadata": {
    "collapsed": false,
    "jupyter": {
     "outputs_hidden": false
    }
   },
   "outputs": [
    {
     "data": {
      "image/png": "[encoded data removed]",
      "text/plain": [
       "<Figure size 432x288 with 1 Axes>"
      ]
     },
     "metadata": {
      "needs_background": "light"
     },
     "output_type": "display_data"
    }
   ],
   "source": [
    "# Plot it\n",
    "\n",
    "x = np.linspace(0., 200, 201)\n",
    "\n",
    "plt.plot(x, func(x))\n",
    "plt.xlabel(\"x\")\n",
    "plt.ylabel(\"expression value\")\n",
    "plt.grid()\n",
    "plt.show()"
   ]
  },
  {
   "cell_type": "markdown",
   "metadata": {},
   "source": [
    "La longitud extra necesaria es"
   ]
  },
  {
   "cell_type": "code",
   "execution_count": 11,
   "metadata": {
    "collapsed": false,
    "jupyter": {
     "outputs_hidden": false
    }
   },
   "outputs": [
    {
     "name": "stdout",
     "output_type": "stream",
     "text": [
      "L tot = 86.6 m\n"
     ]
    }
   ],
   "source": [
    "leqV = ltot[0] - L2\n",
    "print('L tot = %.1f m' %leqV )"
   ]
  },
  {
   "cell_type": "markdown",
   "metadata": {},
   "source": [
    "Esto implica una válvula ocn un ajuste como el siguiente"
   ]
  },
  {
   "cell_type": "code",
   "execution_count": 12,
   "metadata": {
    "collapsed": false,
    "jupyter": {
     "outputs_hidden": false
    }
   },
   "outputs": [
    {
     "name": "stdout",
     "output_type": "stream",
     "text": [
      "Kv = 11.5\n"
     ]
    }
   ],
   "source": [
    "Kv = f*leqV/D2\n",
    "print('Kv = %.1f' % Kv)"
   ]
  },
  {
   "cell_type": "code",
   "execution_count": null,
   "metadata": {
    "collapsed": false,
    "jupyter": {
     "outputs_hidden": false
    }
   },
   "outputs": [],
   "source": []
  }
 ],
 "metadata": {
  "kernelspec": {
   "display_name": "Python 3",
   "language": "python",
   "name": "python3"
  },
  "language_info": {
   "codemirror_mode": {
    "name": "ipython",
    "version": 3
   },
   "file_extension": ".py",
   "mimetype": "text/x-python",
   "name": "python",
   "nbconvert_exporter": "python",
   "pygments_lexer": "ipython3",
   "version": "3.7.3"
  }
 },
 "nbformat": 4,
 "nbformat_minor": 4
}
